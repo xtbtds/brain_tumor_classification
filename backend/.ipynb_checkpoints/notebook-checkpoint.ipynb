{
 "cells": [
  {
   "cell_type": "code",
   "execution_count": 1,
   "id": "55ba8fac",
   "metadata": {},
   "outputs": [
    {
     "ename": "ModuleNotFoundError",
     "evalue": "No module named 'numpy'",
     "output_type": "error",
     "traceback": [
      "\u001b[0;31m---------------------------------------------------------------------------\u001b[0m",
      "\u001b[0;31mModuleNotFoundError\u001b[0m                       Traceback (most recent call last)",
      "Cell \u001b[0;32mIn[1], line 1\u001b[0m\n\u001b[0;32m----> 1\u001b[0m \u001b[38;5;28;01mimport\u001b[39;00m \u001b[38;5;21;01mnumpy\u001b[39;00m \u001b[38;5;28;01mas\u001b[39;00m \u001b[38;5;21;01mnp\u001b[39;00m\n\u001b[1;32m      2\u001b[0m \u001b[38;5;28;01mimport\u001b[39;00m \u001b[38;5;21;01mmatplotlib\u001b[39;00m\u001b[38;5;21;01m.\u001b[39;00m\u001b[38;5;21;01mpyplot\u001b[39;00m \u001b[38;5;28;01mas\u001b[39;00m \u001b[38;5;21;01mplt\u001b[39;00m\n\u001b[1;32m      4\u001b[0m get_ipython()\u001b[38;5;241m.\u001b[39mrun_line_magic(\u001b[38;5;124m'\u001b[39m\u001b[38;5;124mmatplotlib\u001b[39m\u001b[38;5;124m'\u001b[39m, \u001b[38;5;124m'\u001b[39m\u001b[38;5;124minline\u001b[39m\u001b[38;5;124m'\u001b[39m)\n",
      "\u001b[0;31mModuleNotFoundError\u001b[0m: No module named 'numpy'"
     ]
    }
   ],
   "source": [
    "import numpy as np\n",
    "import matplotlib.pyplot as plt\n",
    "\n",
    "%matplotlib inline\n",
    "import tensorflow as tf\n",
    "from tensorflow import keras\n",
    "from tensorflow.keras.preprocessing.image import load_img\n",
    "\n",
    "from tensorflow.keras.applications.xception import Xception\n",
    "from tensorflow.keras.applications.xception import preprocess_input\n",
    "from tensorflow.keras.applications.xception import decode_predictions"
   ]
  },
  {
   "cell_type": "code",
   "execution_count": null,
   "id": "fd6bb511",
   "metadata": {},
   "outputs": [],
   "source": [
    "path = './Training/glioma_tumor'\n",
    "name = 'gg (390).jpg'\n",
    "fullname = f'{path}/{name}'\n",
    "load_img(fullname)"
   ]
  },
  {
   "cell_type": "code",
   "execution_count": null,
   "id": "35b1f92a",
   "metadata": {},
   "outputs": [],
   "source": [
    "\n",
    "model = Xception(weights='imagenet', input_shape=(299, 299, 3))"
   ]
  },
  {
   "cell_type": "code",
   "execution_count": null,
   "id": "d7f94593",
   "metadata": {},
   "outputs": [],
   "source": [
    "X = np.array([x])\n",
    "print(X.shape)\n",
    "X = preprocess_input(X)\n",
    "pred = model.predict(X)\n",
    "decode_predictions(pred)"
   ]
  },
  {
   "cell_type": "code",
   "execution_count": null,
   "id": "b72fcb45",
   "metadata": {},
   "outputs": [],
   "source": [
    "from tensorflow.keras.preprocessing.image import ImageDataGenerator\n",
    "train_gen = ImageDataGenerator(preprocessing_function=preprocess_input)\n",
    "\n",
    "train_ds = train_gen.flow_from_directory(\n",
    "    './Training/',\n",
    "    target_size=(150, 150),\n",
    "    batch_size=32\n",
    ")\n"
   ]
  },
  {
   "cell_type": "code",
   "execution_count": null,
   "id": "05441226",
   "metadata": {},
   "outputs": [],
   "source": [
    "train_ds.class_indices"
   ]
  },
  {
   "cell_type": "code",
   "execution_count": null,
   "id": "8122986a",
   "metadata": {},
   "outputs": [],
   "source": [
    "base_model = Xception(\n",
    "    weights='imagenet',\n",
    "    include_top=False,\n",
    "    input_shape=(150, 150, 3)\n",
    ")\n",
    "\n",
    "base_model.trainable = False\n",
    "\n",
    "\n",
    "\n",
    "inputs = keras.Input(shape=(150, 150, 3))\n",
    "\n",
    "base = base_model(inputs, training=False)\n",
    "\n",
    "vectors = keras.layers.GlobalAveragePooling2D()(base)\n",
    "\n",
    "outputs = keras.layers.Dense(4)(vectors)\n",
    "\n",
    "model = keras.Model(inputs, outputs)"
   ]
  },
  {
   "cell_type": "code",
   "execution_count": null,
   "id": "04fdab86",
   "metadata": {},
   "outputs": [],
   "source": [
    "val_gen = ImageDataGenerator(preprocessing_function=preprocess_input)\n",
    "\n",
    "val_ds = val_gen.flow_from_directory(\n",
    "    './Testing/',\n",
    "    target_size=(150, 150),\n",
    "    batch_size=32,\n",
    "    shuffle=False\n",
    ")"
   ]
  },
  {
   "cell_type": "code",
   "execution_count": null,
   "id": "f2b1f83f",
   "metadata": {},
   "outputs": [],
   "source": [
    "learning_rate = 0.01\n",
    "optimizer = keras.optimizers.Adam(learning_rate=learning_rate)\n",
    "\n",
    "loss = keras.losses.CategoricalCrossentropy(from_logits=True)\n",
    "\n",
    "model.compile(optimizer=optimizer, loss=loss, metrics=['accuracy'])\n",
    "history = model.fit(train_ds, epochs=10, validation_data=val_ds)"
   ]
  },
  {
   "cell_type": "code",
   "execution_count": null,
   "id": "3d96c09e",
   "metadata": {},
   "outputs": [],
   "source": [
    "plt.plot(history.history['val_accuracy'], label='val')\n",
    "plt.xticks(np.arange(10))\n",
    "plt.legend()"
   ]
  },
  {
   "cell_type": "code",
   "execution_count": null,
   "id": "b7cf4cd8",
   "metadata": {},
   "outputs": [],
   "source": [
    "def make_model(learning_rate=0.01):\n",
    "    base_model = Xception(\n",
    "        weights='imagenet',\n",
    "        include_top=False,\n",
    "        input_shape=(150, 150, 3)\n",
    "    )\n",
    "\n",
    "    base_model.trainable = False\n",
    "\n",
    "    #########################################\n",
    "\n",
    "    inputs = keras.Input(shape=(150, 150, 3))\n",
    "    base = base_model(inputs, training=False)\n",
    "    vectors = keras.layers.GlobalAveragePooling2D()(base)\n",
    "    outputs = keras.layers.Dense(4)(vectors)\n",
    "    model = keras.Model(inputs, outputs)\n",
    "    \n",
    "    #########################################\n",
    "\n",
    "    optimizer = keras.optimizers.Adam(learning_rate=learning_rate)\n",
    "    loss = keras.losses.CategoricalCrossentropy(from_logits=True)\n",
    "\n",
    "    model.compile(\n",
    "        optimizer=optimizer,\n",
    "        loss=loss,\n",
    "        metrics=['accuracy']\n",
    "    )\n",
    "    \n",
    "    return model\n",
    "scores = {}\n",
    "\n",
    "for lr in [0.0001, 0.001, 0.01, 0.1]:\n",
    "    print(lr)\n",
    "\n",
    "    model = make_model(learning_rate=lr)\n",
    "    history = model.fit(train_ds, epochs=6, validation_data=val_ds)\n",
    "    scores[lr] = history.history\n",
    "\n",
    "    print()\n",
    "    print()"
   ]
  },
  {
   "cell_type": "code",
   "execution_count": null,
   "id": "30836687",
   "metadata": {},
   "outputs": [],
   "source": [
    "# best lr 0.01\n",
    "model.save(\"model.h5\")"
   ]
  },
  {
   "cell_type": "code",
   "execution_count": null,
   "id": "00520e42",
   "metadata": {},
   "outputs": [],
   "source": [
    "from keras.models import Sequential,Model\n",
    "from keras.layers import MaxPooling2D,Conv2D,Dense,BatchNormalization,Dropout,GlobalAveragePooling2D,Flatten,Input"
   ]
  },
  {
   "cell_type": "code",
   "execution_count": null,
   "id": "dffd3a77",
   "metadata": {},
   "outputs": [],
   "source": [
    "model_cnn=Sequential()\n",
    "model_cnn.add(Input(shape=(224,224,3)))\n",
    "model_cnn.add(Conv2D(128,(3,3)))\n",
    "model_cnn.add(MaxPooling2D((2,2)))\n",
    "model_cnn.add(BatchNormalization())\n",
    "model_cnn.add(Conv2D(64,(3,3)))\n",
    "model_cnn.add(MaxPooling2D((2,2)))\n",
    "model_cnn.add(BatchNormalization())\n",
    "model_cnn.add(Conv2D(32,(3,3)))\n",
    "model_cnn.add(MaxPooling2D((2,2)))\n",
    "model_cnn.add(BatchNormalization())\n",
    "model_cnn.add(Flatten())\n",
    "model_cnn.add(Dense(128,activation='relu'))\n",
    "model_cnn.add(Dropout(0.2))\n",
    "model_cnn.add(Dense(64,activation='relu'))\n",
    "model_cnn.add(Dense(4,activation='softmax'))\n",
    "model_cnn.compile(optimizer='adam',loss='sparse_categorical_crossentropy',metrics=['accuracy'])"
   ]
  },
  {
   "cell_type": "code",
   "execution_count": null,
   "id": "d9660ba6",
   "metadata": {},
   "outputs": [],
   "source": [
    "labels = ['glioma_tumor','no_tumor','meningioma_tumor','pituitary_tumor']"
   ]
  },
  {
   "cell_type": "code",
   "execution_count": null,
   "id": "dbdc98dc",
   "metadata": {},
   "outputs": [],
   "source": [
    "# import sys\n",
    "# !{sys.executable} -m pip install opencv-python"
   ]
  },
  {
   "cell_type": "code",
   "execution_count": null,
   "id": "f9b6cd6f",
   "metadata": {},
   "outputs": [],
   "source": [
    "import cv2"
   ]
  },
  {
   "cell_type": "code",
   "execution_count": null,
   "id": "ebf06313",
   "metadata": {},
   "outputs": [],
   "source": [
    "def convert_image_to_dataset(file_location):\n",
    "    label=0\n",
    "    df=pd.DataFrame()\n",
    "    for category in glob(file_location+'/*'):\n",
    "        for file in tqdm(glob(category+'/*')):\n",
    "            img_array=cv2.imread(file)\n",
    "            img_array=cv2.resize(img_array,(224, 224))\n",
    "            data=pd.DataFrame({'image':[img_array],'label':[label]})\n",
    "            df=df.append(data) ##concat\n",
    "        label+=1\n",
    "    return df.sample(frac=1).reset_index(drop=True)"
   ]
  },
  {
   "cell_type": "code",
   "execution_count": null,
   "id": "0dd4b71e",
   "metadata": {},
   "outputs": [],
   "source": [
    "import pandas as pd\n",
    "from glob import glob\n",
    "from tqdm import tqdm"
   ]
  },
  {
   "cell_type": "code",
   "execution_count": null,
   "id": "bf73a71f",
   "metadata": {},
   "outputs": [],
   "source": [
    "train_data=convert_image_to_dataset('./Training')\n",
    "train_x=np.array(train_data.image.to_list())"
   ]
  },
  {
   "cell_type": "code",
   "execution_count": null,
   "id": "28be65d9",
   "metadata": {},
   "outputs": [],
   "source": [
    "from keras.models import Sequential,Model\n",
    "from keras.layers import MaxPooling2D,Conv2D,Dense,BatchNormalization,Dropout,GlobalAveragePooling2D,Flatten,Input\n",
    "\n",
    "model_cnn=Sequential()\n",
    "model_cnn.add(Input(shape=(224,224,3)))\n",
    "model_cnn.add(Conv2D(128,(3,3)))\n",
    "model_cnn.add(MaxPooling2D((2,2)))\n",
    "model_cnn.add(BatchNormalization())\n",
    "model_cnn.add(Conv2D(64,(3,3)))\n",
    "model_cnn.add(MaxPooling2D((2,2)))\n",
    "model_cnn.add(BatchNormalization())\n",
    "model_cnn.add(Conv2D(32,(3,3)))\n",
    "model_cnn.add(MaxPooling2D((2,2)))\n",
    "model_cnn.add(BatchNormalization())\n",
    "model_cnn.add(Flatten())\n",
    "model_cnn.add(Dense(128,activation='relu'))\n",
    "model_cnn.add(Dropout(0.2))\n",
    "model_cnn.add(Dense(64,activation='relu'))\n",
    "model_cnn.add(Dense(4,activation='softmax'))\n",
    "model_cnn.compile(optimizer='adam',loss='sparse_categorical_crossentropy',metrics=['accuracy'])\n"
   ]
  },
  {
   "cell_type": "code",
   "execution_count": null,
   "id": "20cbc5b7",
   "metadata": {},
   "outputs": [],
   "source": [
    "r1=model_cnn.fit(train_x,train_data.label,validation_split=0.1,epochs=3)"
   ]
  },
  {
   "cell_type": "code",
   "execution_count": null,
   "id": "62bc7f2a",
   "metadata": {},
   "outputs": [],
   "source": [
    "from tensorflow.keras.applications.xception import Xception\n",
    "from tensorflow.keras.applications.xception import preprocess_input\n",
    "from tensorflow.keras.applications.xception import decode_predictions"
   ]
  },
  {
   "cell_type": "code",
   "execution_count": null,
   "id": "c92f1526",
   "metadata": {},
   "outputs": [],
   "source": [
    "xception_model = Xception(weights='imagenet',include_top=False)\n",
    "for layers in xception_model.layers:\n",
    "    layers.trainable=False\n",
    "x=xception_model.output\n",
    "x=GlobalAveragePooling2D()(x)\n",
    "x=Dense(128,activation='relu')(x)\n",
    "x=Dropout(0.15)(x)\n",
    "output=Dense(4,activation='softmax')(x)\n",
    "model2=Model(inputs=xception_model.input,outputs=output)\n",
    "model2.compile(optimizer='adam',loss='sparse_categorical_crossentropy',metrics=['accuracy'])"
   ]
  },
  {
   "cell_type": "code",
   "execution_count": null,
   "id": "89b443f5",
   "metadata": {},
   "outputs": [],
   "source": [
    "r2=model2.fit(train_x,train_data.label,validation_split=0.1,epochs=2)"
   ]
  },
  {
   "cell_type": "code",
   "execution_count": null,
   "id": "ca847908",
   "metadata": {},
   "outputs": [],
   "source": [
    "model2.save(\"model2.h5\")"
   ]
  },
  {
   "cell_type": "markdown",
   "id": "5d822215",
   "metadata": {},
   "source": [
    "### XGBOOST"
   ]
  },
  {
   "cell_type": "code",
   "execution_count": null,
   "id": "64f594e5",
   "metadata": {},
   "outputs": [],
   "source": [
    "new_model = tf.keras.models.Model(\n",
    "    model2.input,\n",
    "    model2.get_layer('global_average_pooling2d').output\n",
    ")"
   ]
  },
  {
   "cell_type": "code",
   "execution_count": null,
   "id": "99d82941",
   "metadata": {},
   "outputs": [],
   "source": [
    "X_train_features = new_model.predict(train_x)\n",
    "X_train_features.shape"
   ]
  },
  {
   "cell_type": "code",
   "execution_count": null,
   "id": "a7320ee6",
   "metadata": {},
   "outputs": [],
   "source": [
    "from xgboost import XGBClassifier"
   ]
  },
  {
   "cell_type": "code",
   "execution_count": null,
   "id": "25ea85dd",
   "metadata": {},
   "outputs": [],
   "source": [
    "xgb = XGBClassifier(objective='multiclass:softmax', learning_rate = 0.1,\n",
    "              max_depth = 15, n_estimators = 500)\n",
    "xgb.fit(X_train_features, train_data.label)"
   ]
  },
  {
   "cell_type": "code",
   "execution_count": null,
   "id": "bc084c92",
   "metadata": {},
   "outputs": [],
   "source": [
    "test_data=convert_image_to_dataset('./Testing')\n",
    "test_x=np.array(test_data.image.to_list())"
   ]
  },
  {
   "cell_type": "code",
   "execution_count": null,
   "id": "d6c917c0",
   "metadata": {},
   "outputs": [],
   "source": [
    "X_test_features = new_model.predict(test_x)\n",
    "y_pred = xgb.predict(X_test_features)"
   ]
  },
  {
   "cell_type": "code",
   "execution_count": null,
   "id": "e8691ff3",
   "metadata": {},
   "outputs": [],
   "source": [
    "from sklearn.metrics import accuracy_score\n",
    "accuracy_score(y_pred, test_data.label)"
   ]
  },
  {
   "cell_type": "code",
   "execution_count": null,
   "id": "d8169ac2",
   "metadata": {},
   "outputs": [],
   "source": [
    "xgb.save_model(\"model_xgb.h5\")"
   ]
  }
 ],
 "metadata": {
  "kernelspec": {
   "display_name": "Python 3 (ipykernel)",
   "language": "python",
   "name": "python3"
  },
  "language_info": {
   "codemirror_mode": {
    "name": "ipython",
    "version": 3
   },
   "file_extension": ".py",
   "mimetype": "text/x-python",
   "name": "python",
   "nbconvert_exporter": "python",
   "pygments_lexer": "ipython3",
   "version": "3.10.6"
  },
  "vscode": {
   "interpreter": {
    "hash": "a35d37535450cc3ec81b97f7fadee61439b6978cd522b7091ab4a5dda62d3527"
   }
  }
 },
 "nbformat": 4,
 "nbformat_minor": 5
}
