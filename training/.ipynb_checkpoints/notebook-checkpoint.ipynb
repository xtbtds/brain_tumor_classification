{
 "cells": [
  {
   "cell_type": "code",
   "execution_count": null,
   "id": "55ba8fac",
   "metadata": {},
   "outputs": [],
   "source": [
    "import numpy as np\n",
    "import matplotlib.pyplot as plt\n",
    "%matplotlib inline\n",
    "import os\n",
    "import pandas as pd\n",
    "from glob import glob\n",
    "from tqdm import tqdm\n",
    "import cv2\n",
    "import tensorflow as tf\n",
    "\n",
    "from tensorflow import keras\n",
    "from tensorflow.keras.preprocessing.image import load_img\n",
    "from tensorflow.keras.applications.xception import Xception\n",
    "from tensorflow.keras.applications.xception import preprocess_input\n",
    "from tensorflow.keras.applications.xception import decode_predictions\n",
    "from tensorflow.keras.preprocessing.image import ImageDataGenerator\n",
    "\n",
    "from keras.models import Sequential,Model\n",
    "from keras.layers import MaxPooling2D,Conv2D,Dense,BatchNormalization,Dropout,GlobalAveragePooling2D,Flatten,Input"
   ]
  },
  {
   "cell_type": "markdown",
   "id": "e6735854",
   "metadata": {},
   "source": [
    "# EDA"
   ]
  },
  {
   "cell_type": "markdown",
   "id": "dc6f5b97",
   "metadata": {},
   "source": [
    "### 1. Identifying Class Imbalance"
   ]
  },
  {
   "cell_type": "code",
   "execution_count": 59,
   "id": "0a1d7fa8",
   "metadata": {},
   "outputs": [
    {
     "data": {
      "image/png": "[encoded data removed]",
      "text/plain": [
       "<Figure size 640x480 with 1 Axes>"
      ]
     },
     "metadata": {},
     "output_type": "display_data"
    }
   ],
   "source": [
    "import os\n",
    "import matplotlib.pyplot as plt\n",
    "number_classes = {'glioma_tumor': len(os.listdir('./Training/glioma_tumor')),\n",
    "'meningioma_tumor': len(os.listdir('./Training/meningioma_tumor')),\n",
    "'no_tumor': len(os.listdir('./Training/no_tumor')),\n",
    "'pituitary_tumor': len(os.listdir('./Training/pituitary_tumor'))}\n",
    "\n",
    "plt.bar(number_classes.keys(), number_classes.values(), width = .5);\n",
    "plt.ylabel('Number of images');"
   ]
  },
  {
   "cell_type": "markdown",
   "id": "f0d09d68",
   "metadata": {},
   "source": [
    "As we can see, there is a lack of no_tumor images, but it isn't significant for our dataset size."
   ]
  },
  {
   "cell_type": "markdown",
   "id": "5554bf44",
   "metadata": {},
   "source": [
    "# 1st model"
   ]
  },
  {
   "cell_type": "code",
   "execution_count": null,
   "id": "35b1f92a",
   "metadata": {},
   "outputs": [],
   "source": [
    "model = Xception(weights='imagenet', input_shape=(299, 299, 3))"
   ]
  },
  {
   "cell_type": "code",
   "execution_count": null,
   "id": "f9068d31",
   "metadata": {},
   "outputs": [],
   "source": [
    "train_gen = ImageDataGenerator(preprocessing_function=preprocess_input)\n",
    "\n",
    "train_ds = train_gen.flow_from_directory(\n",
    "    './Training/',\n",
    "    target_size=(150, 150),\n",
    "    batch_size=32\n",
    ")"
   ]
  },
  {
   "cell_type": "code",
   "execution_count": null,
   "id": "31464b25",
   "metadata": {},
   "outputs": [],
   "source": [
    "val_gen = ImageDataGenerator(preprocessing_function=preprocess_input)\n",
    "\n",
    "val_ds = val_gen.flow_from_directory(\n",
    "    './Testing/',\n",
    "    target_size=(150, 150),\n",
    "    batch_size=32,\n",
    "    shuffle=False\n",
    ")"
   ]
  },
  {
   "cell_type": "code",
   "execution_count": null,
   "id": "05441226",
   "metadata": {},
   "outputs": [],
   "source": [
    "train_ds.class_indices"
   ]
  },
  {
   "cell_type": "code",
   "execution_count": null,
   "id": "8122986a",
   "metadata": {},
   "outputs": [],
   "source": [
    "base_model = Xception(\n",
    "    weights='imagenet',\n",
    "    include_top=False,\n",
    "    input_shape=(150, 150, 3)\n",
    ")\n",
    "base_model.trainable = False\n",
    "\n",
    "inputs = keras.Input(shape=(150, 150, 3))\n",
    "base = base_model(inputs, training=False)\n",
    "vectors = keras.layers.GlobalAveragePooling2D()(base)\n",
    "outputs = keras.layers.Dense(4)(vectors)\n",
    "model = keras.Model(inputs, outputs)"
   ]
  },
  {
   "cell_type": "code",
   "execution_count": null,
   "id": "b7cf4cd8",
   "metadata": {},
   "outputs": [],
   "source": [
    "def make_model(learning_rate=0.01):\n",
    "    base_model = Xception(\n",
    "        weights='imagenet',\n",
    "        include_top=False,\n",
    "        input_shape=(150, 150, 3)\n",
    "    )\n",
    "\n",
    "    base_model.trainable = False\n",
    "\n",
    "    inputs = keras.Input(shape=(150, 150, 3))\n",
    "    base = base_model(inputs, training=False)\n",
    "    vectors = keras.layers.GlobalAveragePooling2D()(base)\n",
    "    outputs = keras.layers.Dense(4)(vectors)\n",
    "    model = keras.Model(inputs, outputs)\n",
    "    \n",
    "    optimizer = keras.optimizers.Adam(learning_rate=learning_rate)\n",
    "    loss = keras.losses.CategoricalCrossentropy(from_logits=True)\n",
    "\n",
    "    model.compile(\n",
    "        optimizer=optimizer,\n",
    "        loss=loss,\n",
    "        metrics=['accuracy']\n",
    "    )\n",
    "    \n",
    "    return model"
   ]
  },
  {
   "cell_type": "markdown",
   "id": "f0151018",
   "metadata": {},
   "source": [
    "### Let's choose the best learning rate"
   ]
  },
  {
   "cell_type": "code",
   "execution_count": null,
   "id": "a008f3cf",
   "metadata": {},
   "outputs": [],
   "source": [
    "scores = {}\n",
    "\n",
    "for lr in [0.0001, 0.001, 0.01, 0.1]:\n",
    "    print(lr)\n",
    "\n",
    "    model = make_model(learning_rate=lr)\n",
    "    history = model.fit(train_ds, epochs=2, validation_data=val_ds)\n",
    "    scores[lr] = history.history\n",
    "\n",
    "    print()\n",
    "    print()"
   ]
  },
  {
   "cell_type": "markdown",
   "id": "0ee23ad7",
   "metadata": {},
   "source": [
    "### Best learning rate is 0.01, now lets train 10 epochs with it."
   ]
  },
  {
   "cell_type": "code",
   "execution_count": null,
   "id": "359c2e4f",
   "metadata": {},
   "outputs": [],
   "source": [
    "learning_rate = 0.01\n",
    "optimizer = keras.optimizers.Adam(learning_rate=learning_rate)\n",
    "loss = keras.losses.CategoricalCrossentropy(from_logits=True)\n",
    "model.compile(optimizer=optimizer, loss=loss, metrics=['accuracy'])\n",
    "history = model.fit(train_ds, epochs=10, validation_data=val_ds)"
   ]
  },
  {
   "cell_type": "code",
   "execution_count": null,
   "id": "52422ca1",
   "metadata": {},
   "outputs": [],
   "source": [
    "model.save(\"model1.h5\")"
   ]
  },
  {
   "cell_type": "markdown",
   "id": "554c41b4",
   "metadata": {},
   "source": [
    "# 2nd model"
   ]
  },
  {
   "cell_type": "markdown",
   "id": "ad743d4e",
   "metadata": {},
   "source": [
    "### Lets add more layers."
   ]
  },
  {
   "cell_type": "code",
   "execution_count": null,
   "id": "d9660ba6",
   "metadata": {},
   "outputs": [],
   "source": [
    "labels = ['glioma_tumor','no_tumor','meningioma_tumor','pituitary_tumor']"
   ]
  },
  {
   "cell_type": "code",
   "execution_count": null,
   "id": "ebf06313",
   "metadata": {},
   "outputs": [],
   "source": [
    "def convert_image_to_dataset(file_location):\n",
    "    label=0\n",
    "    df=pd.DataFrame()\n",
    "    for category in glob(file_location+'/*'):\n",
    "        for file in tqdm(glob(category+'/*')):\n",
    "            img_array=cv2.imread(file)\n",
    "            img_array=cv2.resize(img_array,(224, 224))\n",
    "            data=pd.DataFrame({'image':[img_array],'label':[label]})\n",
    "            df=df.append(data) ##concat\n",
    "        label+=1\n",
    "    return df.sample(frac=1).reset_index(drop=True)"
   ]
  },
  {
   "cell_type": "code",
   "execution_count": null,
   "id": "bf73a71f",
   "metadata": {},
   "outputs": [],
   "source": [
    "train_data=convert_image_to_dataset('./Training')\n",
    "train_x=np.array(train_data.image.to_list())"
   ]
  },
  {
   "cell_type": "code",
   "execution_count": null,
   "id": "28be65d9",
   "metadata": {},
   "outputs": [],
   "source": [
    "model_cnn=Sequential()\n",
    "model_cnn.add(Input(shape=(224,224,3)))\n",
    "model_cnn.add(Conv2D(128,(3,3)))\n",
    "model_cnn.add(MaxPooling2D((2,2)))\n",
    "model_cnn.add(BatchNormalization())\n",
    "model_cnn.add(Conv2D(64,(3,3)))\n",
    "model_cnn.add(MaxPooling2D((2,2)))\n",
    "model_cnn.add(BatchNormalization())\n",
    "model_cnn.add(Conv2D(32,(3,3)))\n",
    "model_cnn.add(MaxPooling2D((2,2)))\n",
    "model_cnn.add(BatchNormalization())\n",
    "model_cnn.add(Flatten())\n",
    "model_cnn.add(Dense(128,activation='relu'))\n",
    "model_cnn.add(Dropout(0.2))\n",
    "model_cnn.add(Dense(64,activation='relu'))\n",
    "model_cnn.add(Dense(4,activation='softmax'))\n",
    "model_cnn.compile(optimizer='adam',loss='sparse_categorical_crossentropy',metrics=['accuracy'])"
   ]
  },
  {
   "cell_type": "code",
   "execution_count": null,
   "id": "20cbc5b7",
   "metadata": {},
   "outputs": [],
   "source": [
    "r1=model_cnn.fit(train_x,train_data.label,validation_split=0.1,epochs=5)"
   ]
  },
  {
   "cell_type": "code",
   "execution_count": null,
   "id": "c92f1526",
   "metadata": {},
   "outputs": [],
   "source": [
    "xception_model = Xception(weights='imagenet',include_top=False)\n",
    "for layers in xception_model.layers:\n",
    "    layers.trainable=False\n",
    "x=xception_model.output\n",
    "x=GlobalAveragePooling2D()(x)\n",
    "x=Dense(128,activation='relu')(x)\n",
    "x=Dropout(0.15)(x)\n",
    "output=Dense(4,activation='softmax')(x)\n",
    "model2=Model(inputs=xception_model.input,outputs=output)\n",
    "model2.compile(optimizer='adam',loss='sparse_categorical_crossentropy',metrics=['accuracy'])"
   ]
  },
  {
   "cell_type": "code",
   "execution_count": null,
   "id": "89b443f5",
   "metadata": {},
   "outputs": [],
   "source": [
    "r2=model2.fit(train_x,train_data.label,validation_split=0.1,epochs=2)"
   ]
  },
  {
   "cell_type": "code",
   "execution_count": null,
   "id": "ca847908",
   "metadata": {},
   "outputs": [],
   "source": [
    "model2.save(\"model2.h5\")"
   ]
  },
  {
   "cell_type": "markdown",
   "id": "5d822215",
   "metadata": {},
   "source": [
    "# 3nd model: adding XGBOOST"
   ]
  },
  {
   "cell_type": "markdown",
   "id": "58f17dd1",
   "metadata": {},
   "source": [
    "### Take the layer from previous model and train new xgboost model using that layer's output."
   ]
  },
  {
   "cell_type": "code",
   "execution_count": null,
   "id": "73db46c3",
   "metadata": {},
   "outputs": [],
   "source": [
    "from xgboost import XGBClassifier\n",
    "from sklearn.metrics import accuracy_score"
   ]
  },
  {
   "cell_type": "code",
   "execution_count": null,
   "id": "64f594e5",
   "metadata": {},
   "outputs": [],
   "source": [
    "new_model = tf.keras.models.Model(\n",
    "    model2.input,\n",
    "    model2.get_layer('global_average_pooling2d').output\n",
    ")"
   ]
  },
  {
   "cell_type": "code",
   "execution_count": null,
   "id": "99d82941",
   "metadata": {},
   "outputs": [],
   "source": [
    "X_train_features = new_model.predict(train_x)\n",
    "X_train_features.shape"
   ]
  },
  {
   "cell_type": "code",
   "execution_count": null,
   "id": "25ea85dd",
   "metadata": {},
   "outputs": [],
   "source": [
    "xgb = XGBClassifier(objective='multiclass:softmax', learning_rate = 0.1,\n",
    "              max_depth = 15, n_estimators = 500)\n",
    "xgb.fit(X_train_features, train_data.label)"
   ]
  },
  {
   "cell_type": "code",
   "execution_count": null,
   "id": "bc084c92",
   "metadata": {},
   "outputs": [],
   "source": [
    "test_data=convert_image_to_dataset('./Testing')\n",
    "test_x=np.array(test_data.image.to_list())"
   ]
  },
  {
   "cell_type": "code",
   "execution_count": null,
   "id": "d6c917c0",
   "metadata": {},
   "outputs": [],
   "source": [
    "X_test_features = new_model.predict(test_x)\n",
    "y_pred = xgb.predict(X_test_features)"
   ]
  },
  {
   "cell_type": "code",
   "execution_count": null,
   "id": "e8691ff3",
   "metadata": {},
   "outputs": [],
   "source": [
    "accuracy_score(y_pred, test_data.label)"
   ]
  },
  {
   "cell_type": "code",
   "execution_count": null,
   "id": "d8169ac2",
   "metadata": {},
   "outputs": [],
   "source": [
    "xgb.save_model(\"model_xgb.h5\")"
   ]
  }
 ],
 "metadata": {
  "kernelspec": {
   "display_name": "Python 3 (ipykernel)",
   "language": "python",
   "name": "python3"
  },
  "language_info": {
   "codemirror_mode": {
    "name": "ipython",
    "version": 3
   },
   "file_extension": ".py",
   "mimetype": "text/x-python",
   "name": "python",
   "nbconvert_exporter": "python",
   "pygments_lexer": "ipython3",
   "version": "3.10.6"
  },
  "vscode": {
   "interpreter": {
    "hash": "a35d37535450cc3ec81b97f7fadee61439b6978cd522b7091ab4a5dda62d3527"
   }
  }
 },
 "nbformat": 4,
 "nbformat_minor": 5
}
